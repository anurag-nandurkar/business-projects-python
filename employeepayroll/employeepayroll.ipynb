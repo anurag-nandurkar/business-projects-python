{
 "cells": [
  {
   "cell_type": "code",
   "execution_count": 11,
   "id": "a2bd007b-4eeb-4a6e-9a8e-3095149eb25d",
   "metadata": {},
   "outputs": [
    {
     "name": "stdin",
     "output_type": "stream",
     "text": [
      "Enter the number of employees:  5\n"
     ]
    },
    {
     "name": "stdout",
     "output_type": "stream",
     "text": [
      "\n",
      "Enter details for Employee 1:\n"
     ]
    },
    {
     "name": "stdin",
     "output_type": "stream",
     "text": [
      "Name:  a\n",
      "Hours Worked:  4\n",
      "Hourly Rate:  44\n"
     ]
    },
    {
     "name": "stdout",
     "output_type": "stream",
     "text": [
      "\n",
      "Enter details for Employee 2:\n"
     ]
    },
    {
     "name": "stdin",
     "output_type": "stream",
     "text": [
      "Name:  b\n",
      "Hours Worked:  66\n",
      "Hourly Rate:  4\n"
     ]
    },
    {
     "name": "stdout",
     "output_type": "stream",
     "text": [
      "\n",
      "Enter details for Employee 3:\n"
     ]
    },
    {
     "name": "stdin",
     "output_type": "stream",
     "text": [
      "Name:  cc\n",
      "Hours Worked:  8\n",
      "Hourly Rate:  7\n"
     ]
    },
    {
     "name": "stdout",
     "output_type": "stream",
     "text": [
      "\n",
      "Enter details for Employee 4:\n"
     ]
    },
    {
     "name": "stdin",
     "output_type": "stream",
     "text": [
      "Name:  dd\n",
      "Hours Worked:  44\n",
      "Hourly Rate:  66\n"
     ]
    },
    {
     "name": "stdout",
     "output_type": "stream",
     "text": [
      "\n",
      "Enter details for Employee 5:\n"
     ]
    },
    {
     "name": "stdin",
     "output_type": "stream",
     "text": [
      "Name:  hh\n",
      "Hours Worked:  44\n",
      "Hourly Rate:  55\n"
     ]
    },
    {
     "name": "stdout",
     "output_type": "stream",
     "text": [
      "Payroll Report:\n",
      "---------------\n",
      "Employee: a, Hours Worked: 4.0, Salary: $176.00\n",
      "Employee: b, Hours Worked: 66.0, Salary: $316.00\n",
      "Employee: cc, Hours Worked: 8.0, Salary: $56.00\n",
      "Employee: dd, Hours Worked: 44.0, Salary: $3036.00\n",
      "Employee: hh, Hours Worked: 44.0, Salary: $2530.00\n",
      "Payroll report exported to payroll_report.txt\n"
     ]
    }
   ],
   "source": [
    "class Employee:\n",
    "    def __init__(self,name,hours_worked,hourly_rate):\n",
    "        \"\"\"\n",
    "        Initialize an Employee instance.\n",
    "        \n",
    "        :param name: Name of the employee\n",
    "        :param hours_worked: Number of hours worked in a week\n",
    "        :param hourly_rate: Hourly wage of the employee\n",
    "        \"\"\"\n",
    "        self.name = name\n",
    "        self.hours_worked = hours_worked\n",
    "        self.hourly_rate = hourly_rate\n",
    "    def calculate_salary(self):\n",
    "        overtime_rate = 1.5 * self.hourly_rate\n",
    "        regular_hours = min(self.hours_worked, 40)\n",
    "        overtime_hours = max(self.hours_worked - 40, 0)\n",
    "        regular_pay = regular_hours * self.hourly_rate\n",
    "        overtime_pay = overtime_hours * overtime_rate\n",
    "        return regular_pay + overtime_pay\n",
    "        \n",
    "\n",
    "\n",
    "\n",
    "\n",
    "class Payroll:\n",
    "    \n",
    "    def __init__(self):\n",
    "        self.employees = []\n",
    "    def add_employee(self,employee):\n",
    "        self.employees.append(employee)\n",
    "    def display_payroll(self):\n",
    "        print(\"Payroll Report:\")\n",
    "        print(\"---------------\")\n",
    "        for employee in self.employees:\n",
    "            salary = employee.calculate_salary()\n",
    "            print(f\"Employee: {employee.name}, Hours Worked: {employee.hours_worked}, Salary: ${salary:.2f}\")\n",
    "    def export_to_file(self, filename=\"payroll_report.txt\"):\n",
    "        with open(filename, \"w\") as file:\n",
    "            file.write(\"Payroll Report:\\n\")\n",
    "            file.write(\"---------------\\n\")\n",
    "            for employee in self.employees:\n",
    "                salary = employee.calculate_salary()\n",
    "                file.write(f\"Employee: {employee.name}, Hours Worked: {employee.hours_worked}, Salary: ${salary:.2f}\\n\")\n",
    "        print(f\"Payroll report exported to {filename}\")\n",
    "            \n",
    "# Managing payroll\n",
    "payroll = Payroll()\n",
    "# User input to add employees\n",
    "num_employees = int(input(\"Enter the number of employees: \"))\n",
    "\n",
    "\n",
    "for i in range(num_employees):\n",
    "    print(f\"\\nEnter details for Employee {i + 1}:\")\n",
    "    name = input(\"Name: \")\n",
    "    hours_worked = float(input(\"Hours Worked: \"))\n",
    "    hourly_rate = float(input(\"Hourly Rate: \"))\n",
    "    \n",
    "    # Create an Employee instance and add it to payroll\n",
    "    employee = Employee(name, hours_worked, hourly_rate)\n",
    "    payroll.add_employee(employee)\n",
    "\n",
    "# Display the payroll report\n",
    "payroll.display_payroll()\n",
    "\n",
    "# Export the report to a file\n",
    "payroll.export_to_file()\n",
    "\n",
    "        \n",
    "\n",
    "    "
   ]
  },
  {
   "cell_type": "code",
   "execution_count": null,
   "id": "538f426e-6323-4fca-8325-9d5f40030d53",
   "metadata": {},
   "outputs": [],
   "source": []
  }
 ],
 "metadata": {
  "kernelspec": {
   "display_name": "Python 3 (ipykernel)",
   "language": "python",
   "name": "python3"
  },
  "language_info": {
   "codemirror_mode": {
    "name": "ipython",
    "version": 3
   },
   "file_extension": ".py",
   "mimetype": "text/x-python",
   "name": "python",
   "nbconvert_exporter": "python",
   "pygments_lexer": "ipython3",
   "version": "3.12.4"
  }
 },
 "nbformat": 4,
 "nbformat_minor": 5
}
